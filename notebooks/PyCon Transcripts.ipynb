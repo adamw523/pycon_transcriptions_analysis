{
 "cells": [
  {
   "cell_type": "markdown",
   "metadata": {
    "collapsed": true
   },
   "source": [
    "## Get list of PyCon 2014 videos"
   ]
  },
  {
   "cell_type": "code",
   "execution_count": 4,
   "metadata": {
    "collapsed": false
   },
   "outputs": [],
   "source": [
    "import feedparser\n",
    "pycon_feed_url = \"http://pyvideo.org/category/50/pycon-us-2014/rss\"\n",
    "pycon_feed = feedparser.parse(pycon_feed_url)"
   ]
  },
  {
   "cell_type": "code",
   "execution_count": 5,
   "metadata": {
    "collapsed": false,
    "scrolled": false
   },
   "outputs": [
    {
     "name": "stdout",
     "output_type": "stream",
     "text": [
      "No video or key error for: Cheap Helicopters In My Living Room\n",
      "No video or key error for: Know Thy Neighbor: Scikit and the K-Nearest Neighbor Algorithm\n",
      "No video or key error for: Know Thy Neighbor: Scikit and the K-Nearest Neighbor Algorithm\n",
      "No video or key error for: Know Thy Neighbor: Scikit and the K-Nearest Neighbor Algorithm\n",
      "No video or key error for: Pushing Python: Building a High Throughput, Low Latency System\n",
      "No video or key error for: Let's Learn Twisted Python\n",
      "No video or key error for: How to formulate a (science) problem and analyze it using Python code\n",
      "Got 133 videos from RSS\n"
     ]
    }
   ],
   "source": [
    "import numpy as np\n",
    "import pandas as pd\n",
    "\n",
    "videos = []\n",
    "links = pycon_feed.entries[0]['links']\n",
    "\n",
    "for entry in pycon_feed.entries:\n",
    "    links = entry['links']\n",
    "    try:\n",
    "        video = {\n",
    "            'title': entry['title'],\n",
    "            'author': entry['author'],\n",
    "            'link': entry['link'],\n",
    "            'summary': entry['summary'],\n",
    "            'youtube_url': ([link for link in links if link.type == 'video/flv'])[0].href\n",
    "        }\n",
    "\n",
    "        videos.append(video)\n",
    "    except (IndexError, KeyError):\n",
    "        print(\"No video or key error for: %s\" % video['title'])\n",
    "            \n",
    "videos = pd.DataFrame(videos)\n",
    "print(\"Got %s videos from RSS\" % len(videos))"
   ]
  },
  {
   "cell_type": "code",
   "execution_count": 6,
   "metadata": {
    "collapsed": false
   },
   "outputs": [
    {
     "data": {
      "text/html": [
       "<div style=\"max-height:1000px;max-width:1500px;overflow:auto;\">\n",
       "<table border=\"1\" class=\"dataframe\">\n",
       "  <thead>\n",
       "    <tr style=\"text-align: right;\">\n",
       "      <th></th>\n",
       "      <th>author</th>\n",
       "      <th>link</th>\n",
       "      <th>summary</th>\n",
       "      <th>title</th>\n",
       "      <th>youtube_url</th>\n",
       "    </tr>\n",
       "  </thead>\n",
       "  <tbody>\n",
       "    <tr>\n",
       "      <th>0</th>\n",
       "      <td>Niko Skrypnik</td>\n",
       "      <td>http://www.pyvideo.org/video/2676/2d3d-graphic...</td>\n",
       "      <td>&lt;p&gt;Abstract&lt;/p&gt;\\nGames, application with rich ...</td>\n",
       "      <td>2D/3D graphics with Python on mobile platforms</td>\n",
       "      <td>http://www.youtube.com/watch?v=Y6pLr11yf-4</td>\n",
       "    </tr>\n",
       "    <tr>\n",
       "      <th>1</th>\n",
       "      <td>Julien Phalip</td>\n",
       "      <td>http://www.pyvideo.org/video/2660/advanced-tec...</td>\n",
       "      <td>&lt;p&gt;Abstract&lt;/p&gt;\\nThis talk will present multip...</td>\n",
       "      <td>Advanced techniques for Web functional testing</td>\n",
       "      <td>http://www.youtube.com/watch?v=St9cL47_1GI</td>\n",
       "    </tr>\n",
       "  </tbody>\n",
       "</table>\n",
       "</div>"
      ],
      "text/plain": [
       "          author                                               link  \\\n",
       "0  Niko Skrypnik  http://www.pyvideo.org/video/2676/2d3d-graphic...   \n",
       "1  Julien Phalip  http://www.pyvideo.org/video/2660/advanced-tec...   \n",
       "\n",
       "                                             summary  \\\n",
       "0  <p>Abstract</p>\\nGames, application with rich ...   \n",
       "1  <p>Abstract</p>\\nThis talk will present multip...   \n",
       "\n",
       "                                            title  \\\n",
       "0  2D/3D graphics with Python on mobile platforms   \n",
       "1  Advanced techniques for Web functional testing   \n",
       "\n",
       "                                  youtube_url  \n",
       "0  http://www.youtube.com/watch?v=Y6pLr11yf-4  \n",
       "1  http://www.youtube.com/watch?v=St9cL47_1GI  "
      ]
     },
     "execution_count": 6,
     "metadata": {},
     "output_type": "execute_result"
    }
   ],
   "source": [
    "videos.head(2)"
   ]
  },
  {
   "cell_type": "markdown",
   "metadata": {
    "collapsed": true
   },
   "source": [
    "## Download Subtitles from YouTube"
   ]
  },
  {
   "cell_type": "code",
   "execution_count": 10,
   "metadata": {
    "collapsed": false
   },
   "outputs": [],
   "source": [
    "import youtube_dl"
   ]
  },
  {
   "cell_type": "markdown",
   "metadata": {},
   "source": [
    "### Download subtitles and add youtube_id column"
   ]
  },
  {
   "cell_type": "code",
   "execution_count": 82,
   "metadata": {
    "collapsed": false,
    "scrolled": false
   },
   "outputs": [],
   "source": [
    "# options: https://github.com/rg3/youtube-dl/blob/master/youtube_dl/YoutubeDL.py#L119\n",
    "ydl_opts = {\n",
    "    #'listsubtitles': True,\n",
    "    'outtmpl': '/work/subtitles/%(id)s',\n",
    "    'writesubtitles': True,\n",
    "    'writeautomaticsub': True,\n",
    "    'skip_download': True,\n",
    "    'no_warnings': True,\n",
    "    'quiet': True\n",
    "}"
   ]
  },
  {
   "cell_type": "code",
   "execution_count": 84,
   "metadata": {
    "collapsed": false
   },
   "outputs": [
    {
     "name": "stdout",
     "output_type": "stream",
     "text": [
      "1483\n"
     ]
    }
   ],
   "source": [
    "# test getting youtube info\n",
    "with youtube_dl.YoutubeDL(ydl_opts) as ydl:\n",
    "    url = videos.ix[0].youtube_url\n",
    "    youtube_vars = ydl.extract_info(url)\n",
    "    print(youtube_vars['duration'])\n"
   ]
  },
  {
   "cell_type": "code",
   "execution_count": 86,
   "metadata": {
    "collapsed": false
   },
   "outputs": [],
   "source": [
    "videos['youtube_id'] = None\n",
    "videos['duration'] = None\n",
    "\n",
    "for video_ix in videos.index:\n",
    "    with youtube_dl.YoutubeDL(ydl_opts) as ydl:\n",
    "        url = videos.ix[video_ix].youtube_url\n",
    "        video_info = ydl.extract_info(url)\n",
    "        videos['youtube_id'][videos.index == video_ix] = video_info['id']\n",
    "        videos['duration'][videos.index == video_ix] = video_info['duration']\n"
   ]
  },
  {
   "cell_type": "code",
   "execution_count": 87,
   "metadata": {
    "collapsed": false
   },
   "outputs": [],
   "source": [
    "# save so we don't have to re-download\n",
    "videos_save_file = '../videos.csv'\n",
    "videos.to_csv(videos_save_file, index=False)"
   ]
  },
  {
   "cell_type": "code",
   "execution_count": 88,
   "metadata": {
    "collapsed": true
   },
   "outputs": [],
   "source": [
    "# read from saved file\n",
    "videos = pd.read_csv(videos_save_file)"
   ]
  },
  {
   "cell_type": "code",
   "execution_count": 89,
   "metadata": {
    "collapsed": false
   },
   "outputs": [
    {
     "data": {
      "text/html": [
       "<div style=\"max-height:1000px;max-width:1500px;overflow:auto;\">\n",
       "<table border=\"1\" class=\"dataframe\">\n",
       "  <thead>\n",
       "    <tr style=\"text-align: right;\">\n",
       "      <th></th>\n",
       "      <th>author</th>\n",
       "      <th>link</th>\n",
       "      <th>summary</th>\n",
       "      <th>title</th>\n",
       "      <th>youtube_url</th>\n",
       "      <th>subtitles</th>\n",
       "      <th>youtube_id</th>\n",
       "      <th>duration</th>\n",
       "    </tr>\n",
       "  </thead>\n",
       "  <tbody>\n",
       "    <tr>\n",
       "      <th>0</th>\n",
       "      <td>Niko Skrypnik</td>\n",
       "      <td>http://www.pyvideo.org/video/2676/2d3d-graphic...</td>\n",
       "      <td>&lt;p&gt;Abstract&lt;/p&gt;\\nGames, application with rich ...</td>\n",
       "      <td>2D/3D graphics with Python on mobile platforms</td>\n",
       "      <td>http://www.youtube.com/watch?v=Y6pLr11yf-4</td>\n",
       "      <td>thank you guys let's start first ball good aft...</td>\n",
       "      <td>Y6pLr11yf-4</td>\n",
       "      <td>1483</td>\n",
       "    </tr>\n",
       "    <tr>\n",
       "      <th>1</th>\n",
       "      <td>Julien Phalip</td>\n",
       "      <td>http://www.pyvideo.org/video/2660/advanced-tec...</td>\n",
       "      <td>&lt;p&gt;Abstract&lt;/p&gt;\\nThis talk will present multip...</td>\n",
       "      <td>Advanced techniques for Web functional testing</td>\n",
       "      <td>http://www.youtube.com/watch?v=St9cL47_1GI</td>\n",
       "      <td>good afternoon everyone  now we have my friend...</td>\n",
       "      <td>St9cL47_1GI</td>\n",
       "      <td>1794</td>\n",
       "    </tr>\n",
       "  </tbody>\n",
       "</table>\n",
       "</div>"
      ],
      "text/plain": [
       "          author                                               link  \\\n",
       "0  Niko Skrypnik  http://www.pyvideo.org/video/2676/2d3d-graphic...   \n",
       "1  Julien Phalip  http://www.pyvideo.org/video/2660/advanced-tec...   \n",
       "\n",
       "                                             summary  \\\n",
       "0  <p>Abstract</p>\\nGames, application with rich ...   \n",
       "1  <p>Abstract</p>\\nThis talk will present multip...   \n",
       "\n",
       "                                            title  \\\n",
       "0  2D/3D graphics with Python on mobile platforms   \n",
       "1  Advanced techniques for Web functional testing   \n",
       "\n",
       "                                  youtube_url  \\\n",
       "0  http://www.youtube.com/watch?v=Y6pLr11yf-4   \n",
       "1  http://www.youtube.com/watch?v=St9cL47_1GI   \n",
       "\n",
       "                                           subtitles   youtube_id  duration  \n",
       "0  thank you guys let's start first ball good aft...  Y6pLr11yf-4      1483  \n",
       "1  good afternoon everyone  now we have my friend...  St9cL47_1GI      1794  "
      ]
     },
     "execution_count": 89,
     "metadata": {},
     "output_type": "execute_result"
    }
   ],
   "source": [
    "videos.head(2)"
   ]
  },
  {
   "cell_type": "markdown",
   "metadata": {
    "collapsed": true
   },
   "source": [
    "### Put subtitles in subtitles column\n",
    "\n",
    "#### SRT Format\n",
    "1. A number indicating which subtitle it is in the sequence.\n",
    "2. The time that the subtitle should appear on the screen, and then disappear.\n",
    "3. The subtitle itself.\n",
    "4. A blank line indicating the start of a new subtitle.\n",
    "\n",
    "<pre>\n",
    "1\n",
    "00:00:06,759 --> 00:00:09,559\n",
    "thank you guys let's start first ball\n",
    "good afternoon\n",
    "\n",
    "2\n",
    "00:00:09,559 --> 00:00:14,070\n",
    "by from there's on my name is really\n",
    "cause great nique\n",
    "</pre>\n"
   ]
  },
  {
   "cell_type": "code",
   "execution_count": 92,
   "metadata": {
    "collapsed": false,
    "scrolled": false
   },
   "outputs": [
    {
     "name": "stderr",
     "output_type": "stream",
     "text": [
      "/usr/local/lib/python3.4/dist-packages/IPython/kernel/__main__.py:27: SettingWithCopyWarning: \n",
      "A value is trying to be set on a copy of a slice from a DataFrame\n",
      "\n",
      "See the the caveats in the documentation: http://pandas.pydata.org/pandas-docs/stable/indexing.html#indexing-view-versus-copy\n"
     ]
    }
   ],
   "source": [
    "videos['subtitles'] = None\n",
    "\n",
    "for video_ix in videos.index:\n",
    "    youtube_id = videos.ix[video_ix].youtube_id\n",
    "    \n",
    "    next_item = 'number'\n",
    "    captions = []\n",
    "    try:\n",
    "        path = '/work/subtitles/%s.en.srt' % youtube_id\n",
    "        with open(path, 'r') as f:\n",
    "            for line in f.readlines():\n",
    "                if next_item == 'number':\n",
    "                    next_item = 'timecode'\n",
    "                elif next_item == 'timecode':\n",
    "                    next_item = 'content'\n",
    "                elif next_item == 'content':\n",
    "                    captions.append(line.strip())\n",
    "                    \n",
    "                if line == '\\n':\n",
    "                    next_item = 'number'\n",
    "                    \n",
    "    except FileNotFoundError:\n",
    "        # print('Cannot find file: %s' % path)\n",
    "        pass\n",
    "\n",
    "    \n",
    "    videos['subtitles'][videos.index == video_ix] = ' '.join(captions)\n"
   ]
  },
  {
   "cell_type": "code",
   "execution_count": 93,
   "metadata": {
    "collapsed": false,
    "scrolled": false
   },
   "outputs": [
    {
     "data": {
      "text/html": [
       "<div style=\"max-height:1000px;max-width:1500px;overflow:auto;\">\n",
       "<table border=\"1\" class=\"dataframe\">\n",
       "  <thead>\n",
       "    <tr style=\"text-align: right;\">\n",
       "      <th></th>\n",
       "      <th>author</th>\n",
       "      <th>link</th>\n",
       "      <th>summary</th>\n",
       "      <th>title</th>\n",
       "      <th>youtube_url</th>\n",
       "      <th>subtitles</th>\n",
       "      <th>youtube_id</th>\n",
       "      <th>duration</th>\n",
       "    </tr>\n",
       "  </thead>\n",
       "  <tbody>\n",
       "    <tr>\n",
       "      <th>0</th>\n",
       "      <td>Niko Skrypnik</td>\n",
       "      <td>http://www.pyvideo.org/video/2676/2d3d-graphic...</td>\n",
       "      <td>&lt;p&gt;Abstract&lt;/p&gt;\\nGames, application with rich ...</td>\n",
       "      <td>2D/3D graphics with Python on mobile platforms</td>\n",
       "      <td>http://www.youtube.com/watch?v=Y6pLr11yf-4</td>\n",
       "      <td>thank you guys let's start first ball good aft...</td>\n",
       "      <td>Y6pLr11yf-4</td>\n",
       "      <td>1483</td>\n",
       "    </tr>\n",
       "    <tr>\n",
       "      <th>1</th>\n",
       "      <td>Julien Phalip</td>\n",
       "      <td>http://www.pyvideo.org/video/2660/advanced-tec...</td>\n",
       "      <td>&lt;p&gt;Abstract&lt;/p&gt;\\nThis talk will present multip...</td>\n",
       "      <td>Advanced techniques for Web functional testing</td>\n",
       "      <td>http://www.youtube.com/watch?v=St9cL47_1GI</td>\n",
       "      <td>good afternoon everyone  now we have my friend...</td>\n",
       "      <td>St9cL47_1GI</td>\n",
       "      <td>1794</td>\n",
       "    </tr>\n",
       "  </tbody>\n",
       "</table>\n",
       "</div>"
      ],
      "text/plain": [
       "          author                                               link  \\\n",
       "0  Niko Skrypnik  http://www.pyvideo.org/video/2676/2d3d-graphic...   \n",
       "1  Julien Phalip  http://www.pyvideo.org/video/2660/advanced-tec...   \n",
       "\n",
       "                                             summary  \\\n",
       "0  <p>Abstract</p>\\nGames, application with rich ...   \n",
       "1  <p>Abstract</p>\\nThis talk will present multip...   \n",
       "\n",
       "                                            title  \\\n",
       "0  2D/3D graphics with Python on mobile platforms   \n",
       "1  Advanced techniques for Web functional testing   \n",
       "\n",
       "                                  youtube_url  \\\n",
       "0  http://www.youtube.com/watch?v=Y6pLr11yf-4   \n",
       "1  http://www.youtube.com/watch?v=St9cL47_1GI   \n",
       "\n",
       "                                           subtitles   youtube_id  duration  \n",
       "0  thank you guys let's start first ball good aft...  Y6pLr11yf-4      1483  \n",
       "1  good afternoon everyone  now we have my friend...  St9cL47_1GI      1794  "
      ]
     },
     "execution_count": 93,
     "metadata": {},
     "output_type": "execute_result"
    }
   ],
   "source": [
    "videos.head(2)"
   ]
  },
  {
   "cell_type": "code",
   "execution_count": 94,
   "metadata": {
    "collapsed": false
   },
   "outputs": [
    {
     "name": "stdout",
     "output_type": "stream",
     "text": [
      "Got 79 videos left out of 133\n"
     ]
    }
   ],
   "source": [
    "videos_with_subtitles = videos[(videos['subtitles'] != \"\")].copy()\n",
    "print(\"Got %s videos left out of %s\" % (len(videos_with_subtitles), len(videos)))"
   ]
  },
  {
   "cell_type": "markdown",
   "metadata": {
    "collapsed": true
   },
   "source": [
    "## k-means clustering"
   ]
  },
  {
   "cell_type": "code",
   "execution_count": 44,
   "metadata": {
    "collapsed": true
   },
   "outputs": [],
   "source": [
    "from sklearn.feature_extraction.text import CountVectorizer\n",
    "from sklearn.cluster import KMeans"
   ]
  },
  {
   "cell_type": "code",
   "execution_count": 51,
   "metadata": {
    "collapsed": false,
    "scrolled": false
   },
   "outputs": [
    {
     "name": "stdout",
     "output_type": "stream",
     "text": [
      "Number of features (unique words) extracted: 7\n"
     ]
    }
   ],
   "source": [
    "num_of_clusters = 6\n",
    "test_tokens = ['docker', 'learning', 'database', 'automation', 'async', 'robots', 'geographic']\n",
    "vectorizer = CountVectorizer(stop_words='english', vocabulary=test_tokens) # CountVectorizer(stop_words='english')\n",
    "X = vectorizer.fit_transform(videos_with_subtitles['subtitles'])\n",
    "print(\"Number of features (unique words) extracted: %s\" % len(vectorizer.get_feature_names()))\n",
    "# print(vectorizer.stop_words_)\n",
    "# print(vectorizer.get_feature_names())"
   ]
  },
  {
   "cell_type": "code",
   "execution_count": 52,
   "metadata": {
    "collapsed": false
   },
   "outputs": [
    {
     "data": {
      "text/plain": [
       "KMeans(copy_x=True, init='k-means++', max_iter=300, n_clusters=6, n_init=1,\n",
       "    n_jobs=1, precompute_distances='auto', random_state=None, tol=0.0001,\n",
       "    verbose=0)"
      ]
     },
     "execution_count": 52,
     "metadata": {},
     "output_type": "execute_result"
    }
   ],
   "source": [
    "km = KMeans(n_clusters=num_of_clusters, init='k-means++', n_init=1, verbose=0)\n",
    "km.fit(X)"
   ]
  },
  {
   "cell_type": "code",
   "execution_count": 53,
   "metadata": {
    "collapsed": false,
    "scrolled": false
   },
   "outputs": [
    {
     "name": "stdout",
     "output_type": "stream",
     "text": [
      "Cluster: 0 \n",
      "                   Craig Kerstiens Postgres Performance for Humans\n",
      "                     Hannu Krosing PostgreSQL is Web Scale (Really :) )\n",
      "                        Mike Bayer Building the App\n",
      "Cluster: 1 \n",
      "                    Allison Kaptur Import-ant Decisions\n",
      "                  Amjith Ramanujam Introduction to Docker\n",
      "       Asheesh Laroia,Karen Rustad Turn Your Computer Into a Server\n",
      "                  Ashwini Oruganti Kneel And Disconnect: Getting The Fastest Connection Out Of A Hostname\n",
      "   Augie Fackler,Nathaniel Manista Deliver Your Software In An Envelope\n",
      "                 Benjamin Peterson Garbage Collection in Python\n",
      "                   Blaise Laflamme Upgrade your Web Development Toolchain\n",
      "                    Bradley Angell Smart Dumpster: Employing Python to Report Real-Time Resource\n",
      "                    Brandon Rhodes The Day of the EXE Is Upon Us\n",
      "                    Brandon Rhodes All Your Ducks In A Row: Data Structures in the Standard Library and Beyond\n",
      "                      Brett Cannon Opening Statements - PyCon 2014 (2014/04/11)\n",
      "                    C. Titus Brown Data intensive biology in the cloud: instrumenting ALL the things\n",
      "                        Carl Meyer Set your code free: releasing and maintaining an open-source Python project\n",
      "                   Christine Spang Subprocess to FFI: Memory, Performance, and Why You Shouldn't Shell Out\n",
      "                      Dan Callahan Quick Wins for Better Website Security\n",
      "                        Dan Langer A Scenic Drive through the Django Request-Response Cycle\n",
      "                     David Beazley Discovering Python\n",
      "                         Erik Rose Designing Poetic APIs\n",
      "                    Fernando Pérez Keynote - Fernando Pérez\n",
      "                  Graham Dumpleton Advanced methods for creating decorators\n",
      "                         Greg Ward Unit Testing Makes Your Code Better\n",
      "                  Guido Van Rossum Keynote - Guido Van Rossum\n",
      "                     James Bennett Django: The good parts\n",
      "                        James King Castle Anthrax: Dungeon Generation Techniques\n",
      "           Jarret Raim,Paul Kehrer The State of Crypto in Python\n",
      "                      Jeff Schenck Straightening Out AngularJS with Python\n",
      "   Jessica Hamrick,Peter Battaglia Games for Science: Creating interactive psychology experiments\n",
      "                  Jessica McKellar Building and breaking a Python sandbox\n",
      "                 John Perry Barlow Keynote - John Perry Barlow\n",
      "                        Juan Gomez REST is not enough: Using Push Notifications to better support your mobile clients\n",
      "                      Julie Lavoie Analyzing Rap Lyrics with Python\n",
      "  Kate Heddleston,Nicole Zuckerman Technical on-boarding, training, and mentoring.\n",
      "                  Katharine Jarmul Python Scraping Showdown: A performance and accuracy review\n",
      "                   Katherine Scott Hello Physical World: A Crash Course on the Internet of Things\n",
      "                        Kushal Das Teaching Python: To Infinity and Beyond\n",
      "                       Luke Miller My big gay adventure. Making, releasing and selling an indie game made in python.\n",
      "                         Lynn Root For Lack of a Better Name(server): DNS Explained.\n",
      "             Marina Zhurakhinskaya Outreach Program for Women: Lessons in Collaboration\n",
      "                  Mele Sax-Barnett Python + Geographic Data = BFFs\n",
      "                       Naomi Ceder Farewell and Welcome Home: Python in Two Genders\n",
      "                    Nathan Yergler In Depth PDB\n",
      "                    Ned Batchelder Getting Started Testing\n",
      "                Ned Jackson Lovely Cheap Helicopters In My Living Room\n",
      "                     Niko Skrypnik 2D/3D graphics with Python on mobile platforms\n",
      "                   Noah Kantrowitz What is coming in Python packaging\n",
      "                    Preston Holmes Blending art, technology, and light, Python for interactive and real time\n",
      "                     Scott Lobdell Programming an Autonomous 20 Foot Blimp with Python\n",
      "                 Selena Deckelmann The Python Pipeline: Why you should reach out to local teachers\n",
      "                         Susan Tan Python in the Browser: Intro to Brython\n",
      "                  Tavish Armstrong Software Engineering Research for Hackers: Bridging the Two Solitudes\n",
      "                      Van Lindberg Keynote - Van Lindberg\n",
      "                           Ying Li Multi-factor Authentication - Possession Factors\n",
      "Cluster: 2 \n",
      "                Ned Jackson Lovely Enough Machine Learning to Make Hacker News Readable Again\n",
      "                     Portia Burton Know Thy Neighbor: Scikit and the K-Nearest Neighbor Algorithm\n",
      "Cluster: 3 \n",
      "              A. Jesse Jiryu Davis What Is Async, How Does It Work, And When Should I Use It?\n",
      "                     Andrew Godwin Designing Django's Migrations\n",
      "         Esther Nam,Travis Fischer Character encoding and Unicode in Python\n",
      "                   Kate Heddleston So you want to be a full-stack developer? How to build a full-stack python\n",
      "                   Miguel Grinberg Writing RESTful web services with Flask\n",
      "                 Selena Deckelmann Sane schema migrations with Alembic and SQLAlchemy\n",
      "Cluster: 4 \n",
      "                    Elena Williams Hitchhikers Guide to Participating in Open Source\n",
      "                       Greg Wilson Software Carpentry: Lessons Learned\n",
      "                  Jessica McKellar Keynote: Python, the next generation - Jessica McKellar\n",
      "                    Michael Becker Realtime predictive analytics using scikit-learn & RabbitMQ\n",
      "Cluster: 5 \n",
      "                    Asheesh Laroia Python packaging simplified, for end users, app developers\n",
      "                  Catherine Devlin See Docs Run. Run, Docs, Run!\n",
      "                        Dan Crosta Performance Testing and Profiling: A Virtuous Cycle\n",
      "                   Hynek Schlawack The Sorry State of SSL\n",
      "                       Julia Evans Diving into Open Data with IPython Notebook & Pandas\n",
      "                     Julien Phalip Advanced techniques for Web functional testing\n",
      "                    Justin Abrahms Computer science fundamentals for self-taught programmers\n",
      "                     Kevin Ballard Pushing Python: Building a High Throughput, Low Latency System\n",
      "                       Megan Speir So You Want to Build an API?\n",
      "                Narahari Allamraju Which messaging layer should you use if you want to build\n",
      "                 Peter Baumgartner Getting Started with SaltStack\n",
      "                    Rachel Sanders Developing Flask Extensions\n"
     ]
    }
   ],
   "source": [
    "videos_with_subtitles['cluster'] = km.labels_\n",
    "for cluster in range(num_of_clusters):\n",
    "    this_cluster = videos_with_subtitles[videos_with_subtitles['cluster'] == cluster].sort(columns=['author'])\n",
    "\n",
    "    print(\"Cluster: %s \" % cluster)\n",
    "    for video in this_cluster.iterrows():\n",
    "        print(\"%34s %s\" % (video[1]['author'], video[1]['title']))\n"
   ]
  },
  {
   "cell_type": "code",
   "execution_count": null,
   "metadata": {
    "collapsed": true
   },
   "outputs": [],
   "source": []
  },
  {
   "cell_type": "markdown",
   "metadata": {
    "collapsed": true
   },
   "source": [
    "## Number Words"
   ]
  },
  {
   "cell_type": "code",
   "execution_count": 101,
   "metadata": {
    "collapsed": false,
    "scrolled": true
   },
   "outputs": [
    {
     "data": {
      "text/html": [
       "<div style=\"max-height:1000px;max-width:1500px;overflow:auto;\">\n",
       "<table border=\"1\" class=\"dataframe\">\n",
       "  <thead>\n",
       "    <tr style=\"text-align: right;\">\n",
       "      <th></th>\n",
       "      <th>author</th>\n",
       "      <th>link</th>\n",
       "      <th>summary</th>\n",
       "      <th>title</th>\n",
       "      <th>youtube_url</th>\n",
       "      <th>subtitles</th>\n",
       "      <th>youtube_id</th>\n",
       "      <th>duration</th>\n",
       "      <th>words_count</th>\n",
       "      <th>words_per_min</th>\n",
       "    </tr>\n",
       "  </thead>\n",
       "  <tbody>\n",
       "    <tr>\n",
       "      <th>0</th>\n",
       "      <td>Niko Skrypnik</td>\n",
       "      <td>http://www.pyvideo.org/video/2676/2d3d-graphic...</td>\n",
       "      <td>&lt;p&gt;Abstract&lt;/p&gt;\\nGames, application with rich ...</td>\n",
       "      <td>2D/3D graphics with Python on mobile platforms</td>\n",
       "      <td>http://www.youtube.com/watch?v=Y6pLr11yf-4</td>\n",
       "      <td>thank you guys let's start first ball good aft...</td>\n",
       "      <td>Y6pLr11yf-4</td>\n",
       "      <td>1483</td>\n",
       "      <td>3589</td>\n",
       "      <td>145.205664</td>\n",
       "    </tr>\n",
       "    <tr>\n",
       "      <th>1</th>\n",
       "      <td>Julien Phalip</td>\n",
       "      <td>http://www.pyvideo.org/video/2660/advanced-tec...</td>\n",
       "      <td>&lt;p&gt;Abstract&lt;/p&gt;\\nThis talk will present multip...</td>\n",
       "      <td>Advanced techniques for Web functional testing</td>\n",
       "      <td>http://www.youtube.com/watch?v=St9cL47_1GI</td>\n",
       "      <td>good afternoon everyone  now we have my friend...</td>\n",
       "      <td>St9cL47_1GI</td>\n",
       "      <td>1794</td>\n",
       "      <td>4575</td>\n",
       "      <td>153.010033</td>\n",
       "    </tr>\n",
       "  </tbody>\n",
       "</table>\n",
       "</div>"
      ],
      "text/plain": [
       "          author                                               link  \\\n",
       "0  Niko Skrypnik  http://www.pyvideo.org/video/2676/2d3d-graphic...   \n",
       "1  Julien Phalip  http://www.pyvideo.org/video/2660/advanced-tec...   \n",
       "\n",
       "                                             summary  \\\n",
       "0  <p>Abstract</p>\\nGames, application with rich ...   \n",
       "1  <p>Abstract</p>\\nThis talk will present multip...   \n",
       "\n",
       "                                            title  \\\n",
       "0  2D/3D graphics with Python on mobile platforms   \n",
       "1  Advanced techniques for Web functional testing   \n",
       "\n",
       "                                  youtube_url  \\\n",
       "0  http://www.youtube.com/watch?v=Y6pLr11yf-4   \n",
       "1  http://www.youtube.com/watch?v=St9cL47_1GI   \n",
       "\n",
       "                                           subtitles   youtube_id  duration  \\\n",
       "0  thank you guys let's start first ball good aft...  Y6pLr11yf-4      1483   \n",
       "1  good afternoon everyone  now we have my friend...  St9cL47_1GI      1794   \n",
       "\n",
       "   words_count  words_per_min  \n",
       "0         3589     145.205664  \n",
       "1         4575     153.010033  "
      ]
     },
     "execution_count": 101,
     "metadata": {},
     "output_type": "execute_result"
    }
   ],
   "source": [
    "#sklearn.feature_extraction.text\n",
    "videos_with_subtitles.ix[2]['subtitles'].split()\n",
    "\n",
    "# videos_with_subtitles['word_count'] = videos_with_subtitles.\n",
    "videos_with_subtitles['words_count'] = videos_with_subtitles['subtitles'].apply(lambda s: len(s.split()))\n",
    "videos_with_subtitles['words_count'] = videos_with_subtitles['subtitles'].apply(lambda s: len(s.split()))\n",
    "videos_with_subtitles['words_per_min'] = videos_with_subtitles['words_count'] / (videos_with_subtitles['duration'] / 60)\n",
    "\n",
    "videos_with_subtitles.head(2)"
   ]
  },
  {
   "cell_type": "code",
   "execution_count": null,
   "metadata": {
    "collapsed": false
   },
   "outputs": [],
   "source": []
  },
  {
   "cell_type": "code",
   "execution_count": null,
   "metadata": {
    "collapsed": true
   },
   "outputs": [],
   "source": []
  },
  {
   "cell_type": "code",
   "execution_count": null,
   "metadata": {
    "collapsed": true
   },
   "outputs": [],
   "source": []
  },
  {
   "cell_type": "code",
   "execution_count": null,
   "metadata": {
    "collapsed": false
   },
   "outputs": [],
   "source": []
  },
  {
   "cell_type": "code",
   "execution_count": null,
   "metadata": {
    "collapsed": true
   },
   "outputs": [],
   "source": []
  }
 ],
 "metadata": {
  "kernelspec": {
   "display_name": "Python 3",
   "language": "python",
   "name": "python3"
  },
  "language_info": {
   "codemirror_mode": {
    "name": "ipython",
    "version": 3
   },
   "file_extension": ".py",
   "mimetype": "text/x-python",
   "name": "python",
   "nbconvert_exporter": "python",
   "pygments_lexer": "ipython3",
   "version": "3.4.0"
  }
 },
 "nbformat": 4,
 "nbformat_minor": 0
}
