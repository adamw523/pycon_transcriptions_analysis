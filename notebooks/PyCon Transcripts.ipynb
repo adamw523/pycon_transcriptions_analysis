{
 "cells": [
  {
   "cell_type": "markdown",
   "metadata": {
    "collapsed": true
   },
   "source": [
    "## Get list of PyCon 2014 videos"
   ]
  },
  {
   "cell_type": "code",
   "execution_count": 1,
   "metadata": {
    "collapsed": false
   },
   "outputs": [],
   "source": [
    "import feedparser\n",
    "pycon_feed_url = \"http://pyvideo.org/category/50/pycon-us-2014/rss\"\n",
    "pycon_feed = feedparser.parse(pycon_feed_url)"
   ]
  },
  {
   "cell_type": "code",
   "execution_count": 2,
   "metadata": {
    "collapsed": false,
    "scrolled": false
   },
   "outputs": [
    {
     "name": "stdout",
     "output_type": "stream",
     "text": [
      "No video or key error for: Cheap Helicopters In My Living Room\n",
      "No video or key error for: Know Thy Neighbor: Scikit and the K-Nearest Neighbor Algorithm\n",
      "No video or key error for: Know Thy Neighbor: Scikit and the K-Nearest Neighbor Algorithm\n",
      "No video or key error for: Know Thy Neighbor: Scikit and the K-Nearest Neighbor Algorithm\n",
      "No video or key error for: Pushing Python: Building a High Throughput, Low Latency System\n",
      "No video or key error for: Let's Learn Twisted Python\n",
      "No video or key error for: How to formulate a (science) problem and analyze it using Python code\n",
      "Got 133 videos from RSS\n"
     ]
    }
   ],
   "source": [
    "import numpy as np\n",
    "import pandas as pd\n",
    "\n",
    "videos = []\n",
    "links = pycon_feed.entries[0]['links']\n",
    "\n",
    "for entry in pycon_feed.entries:\n",
    "    links = entry['links']\n",
    "    try:\n",
    "        video = {\n",
    "            'title': entry['title'],\n",
    "            'author': entry['author'],\n",
    "            'link': entry['link'],\n",
    "            'summary': entry['summary'],\n",
    "            'youtube_url': ([link for link in links if link.type == 'video/flv'])[0].href\n",
    "        }\n",
    "\n",
    "        videos.append(video)\n",
    "    except (IndexError, KeyError):\n",
    "        print(\"No video or key error for: %s\" % video['title'])\n",
    "            \n",
    "videos = pd.DataFrame(videos)\n",
    "print(\"Got %s videos from RSS\" % len(videos))"
   ]
  },
  {
   "cell_type": "code",
   "execution_count": 3,
   "metadata": {
    "collapsed": false
   },
   "outputs": [
    {
     "data": {
      "text/html": [
       "<div style=\"max-height:1000px;max-width:1500px;overflow:auto;\">\n",
       "<table border=\"1\" class=\"dataframe\">\n",
       "  <thead>\n",
       "    <tr style=\"text-align: right;\">\n",
       "      <th></th>\n",
       "      <th>author</th>\n",
       "      <th>link</th>\n",
       "      <th>summary</th>\n",
       "      <th>title</th>\n",
       "      <th>youtube_url</th>\n",
       "    </tr>\n",
       "  </thead>\n",
       "  <tbody>\n",
       "    <tr>\n",
       "      <th>0</th>\n",
       "      <td>Niko Skrypnik</td>\n",
       "      <td>http://www.pyvideo.org/video/2676/2d3d-graphic...</td>\n",
       "      <td>&lt;p&gt;Abstract&lt;/p&gt;\\nGames, application with rich ...</td>\n",
       "      <td>2D/3D graphics with Python on mobile platforms</td>\n",
       "      <td>http://www.youtube.com/watch?v=Y6pLr11yf-4</td>\n",
       "    </tr>\n",
       "    <tr>\n",
       "      <th>1</th>\n",
       "      <td>Julien Phalip</td>\n",
       "      <td>http://www.pyvideo.org/video/2660/advanced-tec...</td>\n",
       "      <td>&lt;p&gt;Abstract&lt;/p&gt;\\nThis talk will present multip...</td>\n",
       "      <td>Advanced techniques for Web functional testing</td>\n",
       "      <td>http://www.youtube.com/watch?v=St9cL47_1GI</td>\n",
       "    </tr>\n",
       "  </tbody>\n",
       "</table>\n",
       "</div>"
      ],
      "text/plain": [
       "          author                                               link  \\\n",
       "0  Niko Skrypnik  http://www.pyvideo.org/video/2676/2d3d-graphic...   \n",
       "1  Julien Phalip  http://www.pyvideo.org/video/2660/advanced-tec...   \n",
       "\n",
       "                                             summary  \\\n",
       "0  <p>Abstract</p>\\nGames, application with rich ...   \n",
       "1  <p>Abstract</p>\\nThis talk will present multip...   \n",
       "\n",
       "                                            title  \\\n",
       "0  2D/3D graphics with Python on mobile platforms   \n",
       "1  Advanced techniques for Web functional testing   \n",
       "\n",
       "                                  youtube_url  \n",
       "0  http://www.youtube.com/watch?v=Y6pLr11yf-4  \n",
       "1  http://www.youtube.com/watch?v=St9cL47_1GI  "
      ]
     },
     "execution_count": 3,
     "metadata": {},
     "output_type": "execute_result"
    }
   ],
   "source": [
    "videos.head(2)"
   ]
  },
  {
   "cell_type": "markdown",
   "metadata": {
    "collapsed": true
   },
   "source": [
    "## Download Subtitles from YouTube"
   ]
  },
  {
   "cell_type": "code",
   "execution_count": 5,
   "metadata": {
    "collapsed": false
   },
   "outputs": [],
   "source": [
    "import youtube_dl"
   ]
  },
  {
   "cell_type": "markdown",
   "metadata": {},
   "source": [
    "### Download subtitles and add youtube_id column"
   ]
  },
  {
   "cell_type": "code",
   "execution_count": 6,
   "metadata": {
    "collapsed": false,
    "scrolled": false
   },
   "outputs": [],
   "source": [
    "videos['youtube_id'] = None\n",
    "\n",
    "ydl_opts = {\n",
    "    #'listsubtitles': True,\n",
    "    'outtmpl': '/work/subtitles/%(id)s',\n",
    "    'writesubtitles': True,\n",
    "    'writeautomaticsub': True,\n",
    "    'skip_download': True,\n",
    "    'no_warnings': True,\n",
    "    'quiet': True\n",
    "}\n",
    "\n",
    "for video_ix in videos.index:\n",
    "    with youtube_dl.YoutubeDL(ydl_opts) as ydl:\n",
    "        url = videos.ix[video_ix].youtube_url\n",
    "        videos['youtube_id'][videos.index == video_ix] = ydl.extract_info(url)['id']\n"
   ]
  },
  {
   "cell_type": "code",
   "execution_count": 8,
   "metadata": {
    "collapsed": false
   },
   "outputs": [
    {
     "data": {
      "text/html": [
       "<div style=\"max-height:1000px;max-width:1500px;overflow:auto;\">\n",
       "<table border=\"1\" class=\"dataframe\">\n",
       "  <thead>\n",
       "    <tr style=\"text-align: right;\">\n",
       "      <th></th>\n",
       "      <th>author</th>\n",
       "      <th>link</th>\n",
       "      <th>summary</th>\n",
       "      <th>title</th>\n",
       "      <th>youtube_url</th>\n",
       "      <th>subtitles</th>\n",
       "      <th>youtube_id</th>\n",
       "    </tr>\n",
       "  </thead>\n",
       "  <tbody>\n",
       "    <tr>\n",
       "      <th>0</th>\n",
       "      <td>Niko Skrypnik</td>\n",
       "      <td>http://www.pyvideo.org/video/2676/2d3d-graphic...</td>\n",
       "      <td>&lt;p&gt;Abstract&lt;/p&gt;\\nGames, application with rich ...</td>\n",
       "      <td>2D/3D graphics with Python on mobile platforms</td>\n",
       "      <td>http://www.youtube.com/watch?v=Y6pLr11yf-4</td>\n",
       "      <td>None</td>\n",
       "      <td>Y6pLr11yf-4</td>\n",
       "    </tr>\n",
       "    <tr>\n",
       "      <th>1</th>\n",
       "      <td>Julien Phalip</td>\n",
       "      <td>http://www.pyvideo.org/video/2660/advanced-tec...</td>\n",
       "      <td>&lt;p&gt;Abstract&lt;/p&gt;\\nThis talk will present multip...</td>\n",
       "      <td>Advanced techniques for Web functional testing</td>\n",
       "      <td>http://www.youtube.com/watch?v=St9cL47_1GI</td>\n",
       "      <td>None</td>\n",
       "      <td>St9cL47_1GI</td>\n",
       "    </tr>\n",
       "  </tbody>\n",
       "</table>\n",
       "</div>"
      ],
      "text/plain": [
       "          author                                               link  \\\n",
       "0  Niko Skrypnik  http://www.pyvideo.org/video/2676/2d3d-graphic...   \n",
       "1  Julien Phalip  http://www.pyvideo.org/video/2660/advanced-tec...   \n",
       "\n",
       "                                             summary  \\\n",
       "0  <p>Abstract</p>\\nGames, application with rich ...   \n",
       "1  <p>Abstract</p>\\nThis talk will present multip...   \n",
       "\n",
       "                                            title  \\\n",
       "0  2D/3D graphics with Python on mobile platforms   \n",
       "1  Advanced techniques for Web functional testing   \n",
       "\n",
       "                                  youtube_url subtitles   youtube_id  \n",
       "0  http://www.youtube.com/watch?v=Y6pLr11yf-4      None  Y6pLr11yf-4  \n",
       "1  http://www.youtube.com/watch?v=St9cL47_1GI      None  St9cL47_1GI  "
      ]
     },
     "execution_count": 8,
     "metadata": {},
     "output_type": "execute_result"
    }
   ],
   "source": [
    "videos.head(2)"
   ]
  },
  {
   "cell_type": "markdown",
   "metadata": {
    "collapsed": true
   },
   "source": [
    "### Put subtitles in subtitles column\n",
    "\n",
    "#### SRT Format\n",
    "1. A number indicating which subtitle it is in the sequence.\n",
    "2. The time that the subtitle should appear on the screen, and then disappear.\n",
    "3. The subtitle itself.\n",
    "4. A blank line indicating the start of a new subtitle.\n",
    "\n",
    "<pre>\n",
    "1\n",
    "00:00:06,759 --> 00:00:09,559\n",
    "thank you guys let's start first ball\n",
    "good afternoon\n",
    "\n",
    "2\n",
    "00:00:09,559 --> 00:00:14,070\n",
    "by from there's on my name is really\n",
    "cause great nique\n",
    "</pre>\n"
   ]
  },
  {
   "cell_type": "code",
   "execution_count": 9,
   "metadata": {
    "collapsed": false,
    "scrolled": false
   },
   "outputs": [],
   "source": [
    "videos['subtitles'] = None\n",
    "\n",
    "for video_ix in videos.index:\n",
    "    youtube_id = videos.ix[video_ix].youtube_id\n",
    "    \n",
    "    next_item = 'number'\n",
    "    captions = []\n",
    "    try:\n",
    "        path = '/work/subtitles/%s.en.srt' % youtube_id\n",
    "        with open(path, 'r') as f:\n",
    "            for line in f.readlines():\n",
    "                if next_item == 'number':\n",
    "                    next_item = 'timecode'\n",
    "                elif next_item == 'timecode':\n",
    "                    next_item = 'content'\n",
    "                elif next_item == 'content':\n",
    "                    captions.append(line)\n",
    "                    \n",
    "                if line == '\\n':\n",
    "                    next_item = 'number'\n",
    "                    \n",
    "    except FileNotFoundError:\n",
    "        # print('Cannot find file: %s' % path)\n",
    "        pass\n",
    "\n",
    "    \n",
    "    videos['subtitles'][videos.index == video_ix] = ' '.join(captions)\n"
   ]
  },
  {
   "cell_type": "code",
   "execution_count": 10,
   "metadata": {
    "collapsed": false,
    "scrolled": false
   },
   "outputs": [
    {
     "data": {
      "text/html": [
       "<div style=\"max-height:1000px;max-width:1500px;overflow:auto;\">\n",
       "<table border=\"1\" class=\"dataframe\">\n",
       "  <thead>\n",
       "    <tr style=\"text-align: right;\">\n",
       "      <th></th>\n",
       "      <th>author</th>\n",
       "      <th>link</th>\n",
       "      <th>summary</th>\n",
       "      <th>title</th>\n",
       "      <th>youtube_url</th>\n",
       "      <th>subtitles</th>\n",
       "      <th>youtube_id</th>\n",
       "    </tr>\n",
       "  </thead>\n",
       "  <tbody>\n",
       "    <tr>\n",
       "      <th>0</th>\n",
       "      <td>Niko Skrypnik</td>\n",
       "      <td>http://www.pyvideo.org/video/2676/2d3d-graphic...</td>\n",
       "      <td>&lt;p&gt;Abstract&lt;/p&gt;\\nGames, application with rich ...</td>\n",
       "      <td>2D/3D graphics with Python on mobile platforms</td>\n",
       "      <td>http://www.youtube.com/watch?v=Y6pLr11yf-4</td>\n",
       "      <td>thank you guys let's start first ball\\n good a...</td>\n",
       "      <td>Y6pLr11yf-4</td>\n",
       "    </tr>\n",
       "    <tr>\n",
       "      <th>1</th>\n",
       "      <td>Julien Phalip</td>\n",
       "      <td>http://www.pyvideo.org/video/2660/advanced-tec...</td>\n",
       "      <td>&lt;p&gt;Abstract&lt;/p&gt;\\nThis talk will present multip...</td>\n",
       "      <td>Advanced techniques for Web functional testing</td>\n",
       "      <td>http://www.youtube.com/watch?v=St9cL47_1GI</td>\n",
       "      <td>good afternoon everyone\\n \\n now we have my fr...</td>\n",
       "      <td>St9cL47_1GI</td>\n",
       "    </tr>\n",
       "  </tbody>\n",
       "</table>\n",
       "</div>"
      ],
      "text/plain": [
       "          author                                               link  \\\n",
       "0  Niko Skrypnik  http://www.pyvideo.org/video/2676/2d3d-graphic...   \n",
       "1  Julien Phalip  http://www.pyvideo.org/video/2660/advanced-tec...   \n",
       "\n",
       "                                             summary  \\\n",
       "0  <p>Abstract</p>\\nGames, application with rich ...   \n",
       "1  <p>Abstract</p>\\nThis talk will present multip...   \n",
       "\n",
       "                                            title  \\\n",
       "0  2D/3D graphics with Python on mobile platforms   \n",
       "1  Advanced techniques for Web functional testing   \n",
       "\n",
       "                                  youtube_url  \\\n",
       "0  http://www.youtube.com/watch?v=Y6pLr11yf-4   \n",
       "1  http://www.youtube.com/watch?v=St9cL47_1GI   \n",
       "\n",
       "                                           subtitles   youtube_id  \n",
       "0  thank you guys let's start first ball\\n good a...  Y6pLr11yf-4  \n",
       "1  good afternoon everyone\\n \\n now we have my fr...  St9cL47_1GI  "
      ]
     },
     "execution_count": 10,
     "metadata": {},
     "output_type": "execute_result"
    }
   ],
   "source": [
    "videos.head(2)"
   ]
  },
  {
   "cell_type": "code",
   "execution_count": 119,
   "metadata": {
    "collapsed": false
   },
   "outputs": [
    {
     "name": "stdout",
     "output_type": "stream",
     "text": [
      "Got 79 videos left out of 133\n"
     ]
    }
   ],
   "source": [
    "videos_with_subtitles = videos[(videos['subtitles'] != \"\")].copy()\n",
    "print(\"Got %s videos left out of %s\" % (len(videos_with_subtitles), len(videos)))"
   ]
  },
  {
   "cell_type": "markdown",
   "metadata": {
    "collapsed": true
   },
   "source": [
    "## Data Science!"
   ]
  },
  {
   "cell_type": "code",
   "execution_count": 120,
   "metadata": {
    "collapsed": true
   },
   "outputs": [],
   "source": [
    "from sklearn.feature_extraction.text import CountVectorizer\n",
    "from sklearn.cluster import KMeans"
   ]
  },
  {
   "cell_type": "code",
   "execution_count": 172,
   "metadata": {
    "collapsed": false
   },
   "outputs": [
    {
     "name": "stdout",
     "output_type": "stream",
     "text": [
      "Number of features (unique words) extracted: 16120\n"
     ]
    }
   ],
   "source": [
    "num_of_clusters = 10\n",
    "vectorizer = CountVectorizer(stop_words='english')\n",
    "X = vectorizer.fit_transform(videos_with_subtitles['subtitles'])\n",
    "print(\"Number of features (unique words) extracted: %s\" % len(vectorizer.get_feature_names()))"
   ]
  },
  {
   "cell_type": "code",
   "execution_count": 183,
   "metadata": {
    "collapsed": false
   },
   "outputs": [
    {
     "name": "stdout",
     "output_type": "stream",
     "text": [
      "Initialization complete\n",
      "Iteration  0, inertia 980803.000\n",
      "Iteration  1, inertia 638831.155\n",
      "Iteration  2, inertia 630379.434\n",
      "Converged at iteration 2\n"
     ]
    },
    {
     "data": {
      "text/plain": [
       "KMeans(copy_x=True, init='k-means++', max_iter=300, n_clusters=10, n_init=1,\n",
       "    n_jobs=1, precompute_distances='auto', random_state=None, tol=0.0001,\n",
       "    verbose=1)"
      ]
     },
     "execution_count": 183,
     "metadata": {},
     "output_type": "execute_result"
    }
   ],
   "source": [
    "km = KMeans(n_clusters=num_of_clusters, init='k-means++', n_init=1, verbose=1)\n",
    "km.fit(X)"
   ]
  },
  {
   "cell_type": "code",
   "execution_count": 184,
   "metadata": {
    "collapsed": false,
    "scrolled": false
   },
   "outputs": [
    {
     "name": "stdout",
     "output_type": "stream",
     "text": [
      "Cluster: 0 \n",
      "\t2D/3D graphics with Python on mobile platforms\n",
      "\tAdvanced techniques for Web functional testing\n",
      "\tA Scenic Drive through the Django Request-Response Cycle\n",
      "\tDeveloping Flask Extensions\n",
      "\tKnow Thy Neighbor: Scikit and the K-Nearest Neighbor Algorithm\n",
      "\tMulti-factor Authentication - Possession Factors\n",
      "\tPostgreSQL is Web Scale (Really :) )\n",
      "\tPushing Python: Building a High Throughput, Low Latency System\n",
      "\tQuick Wins for Better Website Security\n",
      "\tREST is not enough: Using Push Notifications to better support your mobile clients\n",
      "\tSo You Want to Build an API?\n",
      "\tAdvanced methods for creating decorators\n",
      "\tAll Your Ducks In A Row: Data Structures in the Standard Library and Beyond\n",
      "\tBlending art, technology, and light, Python for interactive and real time\n",
      "\tCastle Anthrax: Dungeon Generation Techniques\n",
      "\tComputer science fundamentals for self-taught programmers\n",
      "\tFor Lack of a Better Name(server): DNS Explained.\n",
      "\tHello Physical World: A Crash Course on the Internet of Things\n",
      "\tKneel And Disconnect: Getting The Fastest Connection Out Of A Hostname\n",
      "\tPython + Geographic Data = BFFs\n",
      "\tPython Scraping Showdown: A performance and accuracy review\n",
      "\tRealtime predictive analytics using scikit-learn & RabbitMQ\n",
      "\tStraightening Out AngularJS with Python\n",
      "Cluster: 1 \n",
      "\tGames for Science: Creating interactive psychology experiments\n",
      "\tKeynote: Python, the next generation - Jessica McKellar\n",
      "\tSoftware Carpentry: Lessons Learned\n",
      "\tSoftware Engineering Research for Hackers: Bridging the Two Solitudes\n",
      "\tKeynote - John Perry Barlow\n",
      "\tThe Python Pipeline: Why you should reach out to local teachers\n",
      "Cluster: 2 \n",
      "\tDiscovering Python\n",
      "Cluster: 3 \n",
      "\tCharacter encoding and Unicode in Python\n",
      "Cluster: 4 \n",
      "\tGetting Started Testing\n",
      "Cluster: 5 \n",
      "\tPython packaging simplified, for end users, app developers\n",
      "Cluster: 6 \n",
      "\tDiving into Open Data with IPython Notebook & Pandas\n",
      "Cluster: 7 \n",
      "\tAnalyzing Rap Lyrics with Python\n",
      "\tBuilding the App\n",
      "\tCheap Helicopters In My Living Room\n",
      "\tDesigning Django's Migrations\n",
      "\tDesigning Poetic APIs\n",
      "\tHitchhikers Guide to Participating in Open Source\n",
      "\tIntroduction to Docker\n",
      "\tPostgres Performance for Humans\n",
      "\tSane schema migrations with Alembic and SQLAlchemy\n",
      "\tSubprocess to FFI: Memory, Performance, and Why You Shouldn't Shell Out\n",
      "\tWriting RESTful web services with Flask\n",
      "\tEnough Machine Learning to Make Hacker News Readable Again\n",
      "\tGetting Started with SaltStack\n",
      "\tSo you want to be a full-stack developer? How to build a full-stack python\n",
      "\tThe State of Crypto in Python\n",
      "\tTurn Your Computer Into a Server\n",
      "Cluster: 8 \n",
      "\tData intensive biology in the cloud: instrumenting ALL the things\n",
      "\tKeynote - Fernando Pérez\n",
      "\tPerformance Testing and Profiling: A Virtuous Cycle\n",
      "\tThe Sorry State of SSL\n",
      "Cluster: 9 \n",
      "\tDeliver Your Software In An Envelope\n",
      "\tDjango: The good parts\n",
      "\tFarewell and Welcome Home: Python in Two Genders\n",
      "\tGarbage Collection in Python\n",
      "\tIn Depth PDB\n",
      "\tKeynote - Guido Van Rossum\n",
      "\tKeynote - Van Lindberg\n",
      "\tMy big gay adventure. Making, releasing and selling an indie game made in python.\n",
      "\tOutreach Program for Women: Lessons in Collaboration\n",
      "\tProgramming an Autonomous 20 Foot Blimp with Python\n",
      "\tPython in the Browser: Intro to Brython\n",
      "\tSee Docs Run. Run, Docs, Run!\n",
      "\tSet your code free: releasing and maintaining an open-source Python project\n",
      "\tSmart Dumpster: Employing Python to Report Real-Time Resource\n",
      "\tTechnical on-boarding, training, and mentoring.\n",
      "\tThe Day of the EXE Is Upon Us\n",
      "\tUnit Testing Makes Your Code Better\n",
      "\tUpgrade your Web Development Toolchain\n",
      "\tWhat is coming in Python packaging\n",
      "\tWhich messaging layer should you use if you want to build\n",
      "\tBuilding and breaking a Python sandbox\n",
      "\tImport-ant Decisions\n",
      "\tTeaching Python: To Infinity and Beyond\n",
      "\tWhat Is Async, How Does It Work, And When Should I Use It?\n",
      "\tOpening Statements - PyCon 2014 (2014/04/11)\n"
     ]
    }
   ],
   "source": [
    "videos_with_subtitles['cluster'] = km.labels_\n",
    "for cluster in range(num_of_clusters):\n",
    "    titles = videos_with_subtitles[videos_with_subtitles['cluster'] == cluster]['title'].values\n",
    "    print(\"Cluster: %s \" % cluster)\n",
    "    for title in titles:\n",
    "        print(\"\\t%s\" %title)\n",
    "    \n",
    "    \n"
   ]
  },
  {
   "cell_type": "code",
   "execution_count": null,
   "metadata": {
    "collapsed": true
   },
   "outputs": [],
   "source": []
  },
  {
   "cell_type": "code",
   "execution_count": null,
   "metadata": {
    "collapsed": true
   },
   "outputs": [],
   "source": []
  },
  {
   "cell_type": "code",
   "execution_count": null,
   "metadata": {
    "collapsed": true
   },
   "outputs": [],
   "source": []
  },
  {
   "cell_type": "code",
   "execution_count": null,
   "metadata": {
    "collapsed": false
   },
   "outputs": [],
   "source": []
  },
  {
   "cell_type": "code",
   "execution_count": null,
   "metadata": {
    "collapsed": true
   },
   "outputs": [],
   "source": []
  }
 ],
 "metadata": {
  "kernelspec": {
   "display_name": "Python 3",
   "language": "python",
   "name": "python3"
  },
  "language_info": {
   "codemirror_mode": {
    "name": "ipython",
    "version": 3
   },
   "file_extension": ".py",
   "mimetype": "text/x-python",
   "name": "python",
   "nbconvert_exporter": "python",
   "pygments_lexer": "ipython3",
   "version": "3.4.0"
  }
 },
 "nbformat": 4,
 "nbformat_minor": 0
}
